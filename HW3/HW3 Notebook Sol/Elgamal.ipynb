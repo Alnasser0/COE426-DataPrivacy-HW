{
 "cells": [
  {
   "cell_type": "code",
   "execution_count": 7,
   "metadata": {},
   "outputs": [],
   "source": [
    "import random\n",
    "import math\n",
    "import sys"
   ]
  },
  {
   "cell_type": "code",
   "execution_count": 49,
   "metadata": {},
   "outputs": [],
   "source": [
    "def gcd( a, b ):\n",
    "    while b != 0:\n",
    "        c = a % b\n",
    "        a = b\n",
    "        b = c\n",
    "    return a\n",
    "\n",
    "#computes base^exp mod modulus\n",
    "def modexp( base, exp, modulus ):\n",
    "    return pow(base, exp, modulus)\n",
    "def elgamal_generate_keys():\n",
    "    rand1 = random.randint(100, 300)\n",
    "    rand2 = random.randint(100, 300)\n",
    "\n",
    "    # store the txt file of prime numbers in a python list\n",
    "    fo = open('primes-to-100k.txt', 'r')\n",
    "    lines = fo.read().splitlines()\n",
    "    fo.close()\n",
    "\n",
    "    # store our prime numbers in these variables\n",
    "    p = int(lines[rand1])\n",
    "    g = int(lines[rand2])\n",
    "    g = modexp( g, 2, p )\n",
    "    x = random.randint( 1, (p - 1) // 2 )\n",
    "    h = modexp( g, x, p )\n",
    "\n",
    "    pk = [p, g, h]\n",
    "    sk =[p, g, x]\n",
    "\n",
    "    return pk, sk\n",
    "#encrypts a string sPlaintext using the public key k\n",
    "def elgamal_encrypt(pk, pt):\n",
    "\n",
    "    p = pk[0]\n",
    "    g = pk[1]\n",
    "    h = pk[2]\n",
    "    #pick random y from (0, p-1) inclusive\n",
    "    y = random.randint( 0, p )\n",
    "    #c = g^y mod p\n",
    "    c = modexp( g, y, p )\n",
    "    #d = ih^y mod p\n",
    "    d = (pt*modexp( h, y, p)) % p\n",
    "    #add the pair to the cipher pairs list\n",
    "    return c, d\n",
    "\n",
    "#performs decryption on the cipher pairs found in Cipher using\n",
    "#prive key K2 and writes the decrypted values to file Plaintext\n",
    "def elgamal_decrypt(sk, ct):\n",
    "    c = ct[0]\n",
    "    d = ct[1]\n",
    "    \n",
    "    p = sk[0]\n",
    "    g = sk[1]\n",
    "    x = sk[2]    \n",
    "    \n",
    "    #s = c^x mod p\n",
    "    s = modexp( c, x, p )\n",
    "    #plaintext integer = ds^-1 mod p\n",
    "    pt = (d*modexp( s, p-2, p)) % p\n",
    "    return pt"
   ]
  },
  {
   "cell_type": "code",
   "execution_count": 52,
   "metadata": {},
   "outputs": [],
   "source": [
    "pk, sk = elgamal_generate_keys()"
   ]
  },
  {
   "cell_type": "code",
   "execution_count": 53,
   "metadata": {},
   "outputs": [
    {
     "data": {
      "text/plain": [
       "[839, 137, 271]"
      ]
     },
     "execution_count": 53,
     "metadata": {},
     "output_type": "execute_result"
    }
   ],
   "source": [
    "pk"
   ]
  },
  {
   "cell_type": "code",
   "execution_count": 54,
   "metadata": {},
   "outputs": [
    {
     "data": {
      "text/plain": [
       "(235, 24)"
      ]
     },
     "execution_count": 54,
     "metadata": {},
     "output_type": "execute_result"
    }
   ],
   "source": [
    "elgamal_encrypt(pk,1)"
   ]
  },
  {
   "cell_type": "code",
   "execution_count": 55,
   "metadata": {},
   "outputs": [
    {
     "data": {
      "text/plain": [
       "1"
      ]
     },
     "execution_count": 55,
     "metadata": {},
     "output_type": "execute_result"
    }
   ],
   "source": [
    "elgamal_decrypt(sk,(235, 24))"
   ]
  }
 ],
 "metadata": {
  "kernelspec": {
   "display_name": "Python 3",
   "language": "python",
   "name": "python3"
  },
  "language_info": {
   "codemirror_mode": {
    "name": "ipython",
    "version": 3
   },
   "file_extension": ".py",
   "mimetype": "text/x-python",
   "name": "python",
   "nbconvert_exporter": "python",
   "pygments_lexer": "ipython3",
   "version": "3.8.3"
  }
 },
 "nbformat": 4,
 "nbformat_minor": 4
}
