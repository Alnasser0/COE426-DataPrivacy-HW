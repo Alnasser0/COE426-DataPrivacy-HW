{
 "cells": [
  {
   "cell_type": "code",
   "execution_count": 1,
   "metadata": {},
   "outputs": [],
   "source": [
    "import random\n",
    "import math\n",
    "from builtins import chr"
   ]
  },
  {
   "cell_type": "code",
   "execution_count": 2,
   "metadata": {},
   "outputs": [],
   "source": [
    "def gcd(a, b):\n",
    "    \"\"\"\n",
    "    Performs the Euclidean algorithm and returns the gcd of a and b\n",
    "    \"\"\"\n",
    "    if (b == 0):\n",
    "        return a\n",
    "    else:\n",
    "        return gcd(b, a % b)"
   ]
  },
  {
   "cell_type": "code",
   "execution_count": 3,
   "metadata": {},
   "outputs": [],
   "source": [
    "\n",
    "def xgcd(a, b):\n",
    "    \"\"\"\n",
    "    Performs the extended Euclidean algorithm\n",
    "    Returns the gcd, coefficient of a, and coefficient of b\n",
    "    \"\"\"\n",
    "    x, old_x = 0, 1\n",
    "    y, old_y = 1, 0\n",
    "\n",
    "    while (b != 0):\n",
    "        quotient = a // b\n",
    "        a, b = b, a - quotient * b\n",
    "        old_x, x = x, old_x - quotient * x\n",
    "        old_y, y = y, old_y - quotient * y\n",
    "\n",
    "    return a, old_x, old_y\n"
   ]
  },
  {
   "cell_type": "code",
   "execution_count": 4,
   "metadata": {},
   "outputs": [],
   "source": [
    "\n",
    "def chooseE(totient):\n",
    "    \"\"\"\n",
    "    Chooses a random number, 1 < e < totient, and checks whether or not it is \n",
    "    coprime with the totient, that is, gcd(e, totient) = 1\n",
    "    \"\"\"\n",
    "    while (True):\n",
    "        e = random.randrange(2, totient)\n",
    "\n",
    "        if (gcd(e, totient) == 1):\n",
    "            return e\n"
   ]
  },
  {
   "cell_type": "code",
   "execution_count": 5,
   "metadata": {},
   "outputs": [],
   "source": [
    "\n",
    "def rsa_genKeys():\n",
    "    \"\"\"\n",
    "    Selects two random prime numbers from a list of prime numbers which has \n",
    "    values that go up to 100k. It creates a text file and stores the two \n",
    "    numbers there where they can be used later. Using the prime numbers, \n",
    "    it also computes and stores the public and private keys in two separate \n",
    "    files.\n",
    "    \"\"\"\n",
    "    # choose two random numbers within the range of lines where \n",
    "    # the prime numbers are not too small and not too big\n",
    "    rand1 = random.randint(100, 300)\n",
    "    rand2 = random.randint(100, 300)\n",
    "\n",
    "    # store the txt file of prime numbers in a python list\n",
    "    fo = open('primes-to-100k.txt', 'r')\n",
    "    lines = fo.read().splitlines()\n",
    "    fo.close()\n",
    "\n",
    "    # store our prime numbers in these variables\n",
    "    prime1 = int(lines[rand1])\n",
    "    prime2 = int(lines[rand2])\n",
    "\n",
    "    # compute n, totient, e\n",
    "    n = prime1 * prime2\n",
    "    totient = (prime1 - 1) * (prime2 - 1)\n",
    "    e = chooseE(totient)\n",
    "\n",
    "    # compute d, 1 < d < totient such that ed = 1 (mod totient)\n",
    "    # e and d are inverses (mod totient)\n",
    "    gcd, x, y = xgcd(e, totient)\n",
    "\n",
    "    # make sure d is positive\n",
    "    if (x < 0):\n",
    "        d = x + totient\n",
    "    else:\n",
    "        d = x\n",
    "    \n",
    "    pk = [n,e]\n",
    "    sk = [n,d]\n",
    "    return pk,sk;"
   ]
  },
  {
   "cell_type": "code",
   "execution_count": 6,
   "metadata": {},
   "outputs": [],
   "source": [
    "def ipow(base,exp):\n",
    "    result = 1;\n",
    "    while (1):\n",
    "        if (exp & 1):\n",
    "            result *= base\n",
    "        exp >>= 1\n",
    "        if (exp==0):\n",
    "            break\n",
    "        base *= base\n",
    "    return result;"
   ]
  },
  {
   "cell_type": "code",
   "execution_count": 7,
   "metadata": {},
   "outputs": [],
   "source": [
    "def rsa_encrypt(pt, pk):\r\n",
    "    \"\"\"\r\n",
    "    Encrypts a message (string) by raising each character's ASCII value to the \r\n",
    "    power of e and taking the modulus of n. Returns a string of numbers.\r\n",
    "    file_name refers to file where the public key is located. If a file is not \r\n",
    "    provided, it assumes that we are encrypting the message using our own \r\n",
    "    public keys. Otherwise, it can use someone else's public key, which is \r\n",
    "    stored in a different file.\r\n",
    "    block_size refers to how many characters make up one group of numbers in \r\n",
    "    each index of encrypted_blocks.\r\n",
    "    \"\"\"\r\n",
    "    n = pk[0]\r\n",
    "    e = pk[1]\r\n",
    "\r\n",
    "    encrypted_message = pow(pt, e, n)\r\n",
    "\r\n",
    "    return encrypted_message"
   ]
  },
  {
   "cell_type": "code",
   "execution_count": 8,
   "metadata": {},
   "outputs": [],
   "source": [
    "def rsa_decrypt(ct,sk):\r\n",
    "    \"\"\"\r\n",
    "    Decrypts a string of numbers by raising each number to the power of d and \r\n",
    "    taking the modulus of n. Returns the message as a string.\r\n",
    "    block_size refers to how many characters make up one group of numbers in\r\n",
    "    each index of blocks.\r\n",
    "    \"\"\"\r\n",
    "    n = sk[0]\r\n",
    "    d = sk[1]\r\n",
    "    message = pow(ct, d, n)\r\n",
    "    return message"
   ]
  }
 ],
 "metadata": {
  "kernelspec": {
   "display_name": "Python 3",
   "language": "python",
   "name": "python3"
  },
  "language_info": {
   "codemirror_mode": {
    "name": "ipython",
    "version": 3
   },
   "file_extension": ".py",
   "mimetype": "text/x-python",
   "name": "python",
   "nbconvert_exporter": "python",
   "pygments_lexer": "ipython3",
   "version": "3.7.8"
  }
 },
 "nbformat": 4,
 "nbformat_minor": 4
}
