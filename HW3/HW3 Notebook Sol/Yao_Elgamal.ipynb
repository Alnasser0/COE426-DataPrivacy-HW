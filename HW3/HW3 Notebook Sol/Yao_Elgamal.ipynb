{
 "cells": [
  {
   "cell_type": "code",
   "execution_count": 71,
   "metadata": {},
   "outputs": [],
   "source": [
    "%run Elgamal.ipynb\r\n",
    "import random\r\n",
    "import math\r\n",
    "import sys"
   ]
  },
  {
   "cell_type": "code",
   "execution_count": 72,
   "metadata": {},
   "outputs": [],
   "source": [
    "def convert_to_binary(number):\n",
    "    binary = \"{0:b}\".format(number)\n",
    "    return binary"
   ]
  },
  {
   "cell_type": "code",
   "execution_count": 73,
   "metadata": {},
   "outputs": [
    {
     "name": "stdout",
     "output_type": "stream",
     "text": [
      "001\n",
      "101\n"
     ]
    }
   ],
   "source": [
    "#Convert X and Y to binary \r\n",
    "X = 5\r\n",
    "Y = 2\r\n",
    "x_pt = convert_to_binary(X)\r\n",
    "y_pt = convert_to_binary(Y)\r\n",
    "n = max(len(x_pt), len(y_pt))\r\n",
    "n\r\n",
    "if len(x_pt)<n:\r\n",
    "    for i in range(n-len(x_pt)):\r\n",
    "        x_pt = '0' + x_pt\r\n",
    "if len(y_pt)<n:\r\n",
    "    for i in range(n-len(y_pt)):\r\n",
    "        y_pt = '0' + y_pt        \r\n",
    "print(x_pt)\r\n",
    "print(y_pt)"
   ]
  },
  {
   "cell_type": "code",
   "execution_count": 74,
   "metadata": {},
   "outputs": [
    {
     "data": {
      "text/plain": "['11']"
     },
     "execution_count": 74,
     "metadata": {},
     "output_type": "execute_result"
    }
   ],
   "source": [
    "def find_1_encoding(number):\r\n",
    "    one_enc = [];\r\n",
    "    for i in range(len(number)):\r\n",
    "        prefix = number[0:i+1]\r\n",
    "        if int(prefix[len(prefix)-1]) == 0:\r\n",
    "            prefix = prefix[0:len(prefix)-1] + \"1\"\r\n",
    "            one_enc.append(prefix)\r\n",
    "    return one_enc\r\n",
    "find_1_encoding(y_pt)"
   ]
  },
  {
   "cell_type": "code",
   "execution_count": 75,
   "metadata": {},
   "outputs": [
    {
     "name": "stdout",
     "output_type": "stream",
     "text": [
      "[(458, 1050), (903, 645), (528, 537)]\n",
      "[(1061, 462), (702, 810), (138, 36)]\n"
     ]
    }
   ],
   "source": [
    "#Step 1 by Alice\n",
    "pk,sk = elgamal_generate_keys()\n",
    "T = []\n",
    "row0 = []\n",
    "row1 = []\n",
    "for i in range(len(x_pt)):\n",
    "    if(int(x_pt[i])==0):\n",
    "        row0.append(elgamal_encrypt(pk,1))\n",
    "        r = math.ceil(random.random()*100)\n",
    "        row1.append(elgamal_encrypt(pk,r))\n",
    "    else:\n",
    "        row1.append(elgamal_encrypt(pk,1))\n",
    "        r = math.ceil(random.random()*100)\n",
    "        row0.append(elgamal_encrypt(pk,r))\n",
    "T.append(row0)\n",
    "T.append(row1)\n",
    "print(row0)\n",
    "print(row1)\n"
   ]
  },
  {
   "cell_type": "code",
   "execution_count": 76,
   "metadata": {},
   "outputs": [
    {
     "data": {
      "text/plain": "[[744822, 374220], [24126, 89857], [80701, 36036]]"
     },
     "execution_count": 76,
     "metadata": {},
     "output_type": "execute_result"
    }
   ],
   "source": [
    "#Step 2 by Bob\r\n",
    "one_encoding = find_1_encoding(y_pt)\r\n",
    "cipher_sets = [];\r\n",
    "for prefix in one_encoding:\r\n",
    "    temp = [1,1]\r\n",
    "    for i in range(len(prefix)):\r\n",
    "        temp[0] *= int(T[int(prefix[i])][i][0])\r\n",
    "        temp[1] *= int(T[int(prefix[i])][i][1])\r\n",
    "    cipher_sets.append(temp)    \r\n",
    "i=len(cipher_sets)\r\n",
    "while  i < n:\r\n",
    "    temp = [math.ceil(random.random()*100000), math.ceil(random.random()*100000)]\r\n",
    "    cipher_sets.append(temp)\r\n",
    "    i += 1\r\n",
    "cipher_sets"
   ]
  },
  {
   "cell_type": "code",
   "execution_count": 77,
   "metadata": {},
   "outputs": [
    {
     "name": "stdout",
     "output_type": "stream",
     "text": [
      "Bob is richer\n"
     ]
    }
   ],
   "source": [
    "#Step 3 by alice \n",
    "winner = -1\n",
    "for item in cipher_sets:\n",
    "    pt = elgamal_decrypt(sk,item)\n",
    "    if int(pt) == 1:\n",
    "        winner = 1\n",
    "    if winner ==1:\n",
    "        break\n",
    "if winner==1:\n",
    "    print('Alice is richer')\n",
    "else:\n",
    "    print('Bob is richer')\n"
   ]
  },
  {
   "cell_type": "code",
   "execution_count": null,
   "metadata": {},
   "outputs": [],
   "source": []
  }
 ],
 "metadata": {
  "kernelspec": {
   "display_name": "Python 3",
   "language": "python",
   "name": "python3"
  },
  "language_info": {
   "codemirror_mode": {
    "name": "ipython",
    "version": 3
   },
   "file_extension": ".py",
   "mimetype": "text/x-python",
   "name": "python",
   "nbconvert_exporter": "python",
   "pygments_lexer": "ipython3",
   "version": "3.7.7"
  }
 },
 "nbformat": 4,
 "nbformat_minor": 4
}