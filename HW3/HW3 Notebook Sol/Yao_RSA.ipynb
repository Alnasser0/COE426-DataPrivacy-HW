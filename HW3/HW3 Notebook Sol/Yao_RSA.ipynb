{
 "cells": [
  {
   "cell_type": "code",
   "execution_count": 85,
   "metadata": {},
   "outputs": [],
   "source": [
    "%run RSA.ipynb\n",
    "import random\n",
    "import math\n",
    "import sys"
   ]
  },
  {
   "cell_type": "code",
   "execution_count": 86,
   "metadata": {},
   "outputs": [],
   "source": [
    "def convert_to_binary(number):\n",
    "    binary = \"{0:b}\".format(number)\n",
    "    return binary"
   ]
  },
  {
   "cell_type": "code",
   "execution_count": 87,
   "metadata": {},
   "outputs": [
    {
     "name": "stdout",
     "output_type": "stream",
     "text": [
      "001\n",
      "101\n"
     ]
    }
   ],
   "source": [
    "#Convert X and Y to binary \r\n",
    "X = 5\r\n",
    "Y = 3\r\n",
    "x_pt = convert_to_binary(X)\r\n",
    "y_pt = convert_to_binary(Y)\r\n",
    "n = max(len(x_pt), len(y_pt))\r\n",
    "n\r\n",
    "if len(x_pt)<n:\r\n",
    "    for i in range(n-len(x_pt)):\r\n",
    "        x_pt = '0' + x_pt\r\n",
    "if len(y_pt)<n:\r\n",
    "    for i in range(n-len(y_pt)):\r\n",
    "        y_pt = '0' + y_pt        \r\n",
    "print(x_pt)\r\n",
    "print(y_pt)"
   ]
  },
  {
   "cell_type": "code",
   "execution_count": 88,
   "metadata": {},
   "outputs": [
    {
     "data": {
      "text/plain": "['11']"
     },
     "execution_count": 88,
     "metadata": {},
     "output_type": "execute_result"
    }
   ],
   "source": [
    "def find_1_encoding(number):\n",
    "    one_enc = [];\n",
    "    for i in range(len(number)):\n",
    "        prefix = number[0:i+1]\n",
    "        if int(prefix[len(prefix)-1]) == 0:\n",
    "            prefix = prefix[0:len(prefix)-1] + \"1\"\n",
    "            one_enc.append(prefix)\n",
    "    return one_enc\n",
    "find_1_encoding(y_pt)        "
   ]
  },
  {
   "cell_type": "code",
   "execution_count": 89,
   "metadata": {},
   "outputs": [
    {
     "name": "stdout",
     "output_type": "stream",
     "text": [
      "[1, 1, 486164]\n",
      "[92833, 160472, 1]\n"
     ]
    }
   ],
   "source": [
    "#Step 1 by Alice\r\n",
    "pk,sk = rsa_genKeys()\r\n",
    "T = []\r\n",
    "row0 = []\r\n",
    "row1 = []\r\n",
    "#rng = math.ceil(random.random()*100)\r\n",
    "for i in range(len(x_pt)):\r\n",
    "    if(int(x_pt[i])==0):\r\n",
    "        #insert your code here\r\n",
    "        row0.append(rsa_encrypt(1,pk))\r\n",
    "        r = math.ceil(random.random()*100)\r\n",
    "        row1.append(rsa_encrypt(r,pk))\r\n",
    "    else:\r\n",
    "        #insert your code here\r\n",
    "        row1.append(rsa_encrypt(1,pk))\r\n",
    "        r = math.ceil(random.random()*100)\r\n",
    "        row0.append(rsa_encrypt(r,pk))\r\n",
    "        \r\n",
    "T.append(row0)\r\n",
    "T.append(row1)\r\n",
    "print(row0)\r\n",
    "print(row1)\r\n"
   ]
  },
  {
   "cell_type": "code",
   "execution_count": 90,
   "metadata": {},
   "outputs": [
    {
     "data": {
      "text/plain": "[[8617965889, 25751262784], [28741, 38291], [15062, 53605]]"
     },
     "execution_count": 90,
     "metadata": {},
     "output_type": "execute_result"
    }
   ],
   "source": [
    "#Step 2 by Bob\r\n",
    "one_encoding = find_1_encoding(y_pt)\r\n",
    "\r\n",
    "cipher_sets = []\r\n",
    "for prefix in one_encoding:\r\n",
    "    temp = [1,1]\r\n",
    "    for i in range(len(prefix)):\r\n",
    "        #insert your code here \r\n",
    "        temp[0] *= int(T[int(prefix[i])][0])\r\n",
    "        temp[1] *= int(T[int(prefix[i])][1])\r\n",
    "        \r\n",
    "    cipher_sets.append(temp)\r\n",
    "    \r\n",
    "i=len(cipher_sets)\r\n",
    "while  i < n:\r\n",
    "    temp = [math.ceil(random.random()*100000), math.ceil(random.random()*100000)]\r\n",
    "    cipher_sets.append(temp)\r\n",
    "    i += 1\r\n",
    "cipher_sets    "
   ]
  },
  {
   "cell_type": "code",
   "execution_count": 91,
   "metadata": {},
   "outputs": [
    {
     "name": "stdout",
     "output_type": "stream",
     "text": [
      "289\n",
      "3969\n",
      "265619\n",
      "307242\n",
      "245181\n",
      "41121\n",
      "Bob is richer\n"
     ]
    }
   ],
   "source": [
    "#Step 3 by alice \r\n",
    "winner = -1\r\n",
    "for item in cipher_sets:\r\n",
    "    # insert your code here\r\n",
    "    for cypher in range(len(item)):\r\n",
    "        pt = rsa_decrypt(item[cypher], sk)\r\n",
    "    \r\n",
    "        print(pt)\r\n",
    "        if int(pt) == 1:\r\n",
    "            winner = 1\r\n",
    "        if winner ==1:\r\n",
    "            break\r\n",
    "if winner==1:\r\n",
    "    print('Alice is richer')\r\n",
    "else:\r\n",
    "    print('Bob is richer')\r\n"
   ]
  },
  {
   "cell_type": "code",
   "execution_count": null,
   "metadata": {},
   "outputs": [],
   "source": []
  }
 ],
 "metadata": {
  "kernelspec": {
   "display_name": "Python 3",
   "language": "python",
   "name": "python3"
  },
  "language_info": {
   "codemirror_mode": {
    "name": "ipython",
    "version": 3
   },
   "file_extension": ".py",
   "mimetype": "text/x-python",
   "name": "python",
   "nbconvert_exporter": "python",
   "pygments_lexer": "ipython3",
   "version": "3.7.7"
  }
 },
 "nbformat": 4,
 "nbformat_minor": 4
}