{
 "cells": [
  {
   "cell_type": "code",
   "execution_count": 5,
   "metadata": {},
   "outputs": [],
   "source": [
    "from ipynb.fs.full.RSA import *\n",
    "import random\n",
    "import math\n",
    "import sys"
   ]
  },
  {
   "cell_type": "code",
   "execution_count": 119,
   "metadata": {},
   "outputs": [],
   "source": [
    "#Step 1 by Alice\n",
    "m0 = 100\n",
    "m1 = 20\n",
    "pk, sk = rsa_genKeys()\n",
    "r0 = math.ceil(random.random()*10000)\n",
    "r1 = math.ceil(random.random()*10000)\n",
    "r = [r0,r1]"
   ]
  },
  {
   "cell_type": "code",
   "execution_count": 120,
   "metadata": {},
   "outputs": [],
   "source": [
    "\n",
    "#Step 2 by Bob\n",
    "b = 0\n",
    "rb = r[b]\n",
    "\n",
    "#Step 3 by bob \n",
    "k = math.ceil(random.random()*10000)\n",
    "v = rsa_encrypt(k,pk)\n",
    "v = v + rb\n"
   ]
  },
  {
   "cell_type": "code",
   "execution_count": 121,
   "metadata": {},
   "outputs": [
    {
     "name": "stdout",
     "output_type": "stream",
     "text": [
      "7128 268415\n"
     ]
    }
   ],
   "source": [
    "\n",
    "#Step 4 by Alice \n",
    "k0 = rsa_decrypt(v-r0,sk)\n",
    "k1 = rsa_decrypt(v-r1,sk)\n",
    "\n",
    "#Step 5 by Alice \n",
    "m0_p = m0+k0\n",
    "m1_p = m1+k1\n",
    "print(m0_p, m1_p)\n"
   ]
  },
  {
   "cell_type": "code",
   "execution_count": 122,
   "metadata": {},
   "outputs": [
    {
     "name": "stdout",
     "output_type": "stream",
     "text": [
      "100 261387\n"
     ]
    }
   ],
   "source": [
    "#Step 6 by Bob\n",
    "m0 = m0_p - k\n",
    "m1 = m1_p - k    \n",
    "print(m0, m1)"
   ]
  },
  {
   "cell_type": "code",
   "execution_count": null,
   "metadata": {},
   "outputs": [],
   "source": []
  }
 ],
 "metadata": {
  "kernelspec": {
   "display_name": "Python 3",
   "language": "python",
   "name": "python3"
  },
  "language_info": {
   "codemirror_mode": {
    "name": "ipython",
    "version": 3
   },
   "file_extension": ".py",
   "mimetype": "text/x-python",
   "name": "python",
   "nbconvert_exporter": "python",
   "pygments_lexer": "ipython3",
   "version": "3.8.3"
  }
 },
 "nbformat": 4,
 "nbformat_minor": 4
}
