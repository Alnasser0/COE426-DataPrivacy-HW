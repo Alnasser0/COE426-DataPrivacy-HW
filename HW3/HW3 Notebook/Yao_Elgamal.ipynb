{
 "cells": [
  {
   "cell_type": "code",
   "execution_count": 219,
   "metadata": {},
   "outputs": [],
   "source": [
    "from ipynb.fs.full.Elgamal import *\n",
    "import random\n",
    "import math\n",
    "import sys"
   ]
  },
  {
   "cell_type": "code",
   "execution_count": 220,
   "metadata": {},
   "outputs": [],
   "source": [
    "def convert_to_binary(number):\n",
    "    binary = \"{0:b}\".format(number)\n",
    "    return binary"
   ]
  },
  {
   "cell_type": "code",
   "execution_count": 226,
   "metadata": {},
   "outputs": [
    {
     "name": "stdout",
     "output_type": "stream",
     "text": [
      "010000100\n",
      "111110100\n"
     ]
    }
   ],
   "source": [
    "#Convert X and Y to binary \n",
    "X = 132\n",
    "Y = 500\n",
    "x_pt = convert_to_binary(X)\n",
    "y_pt = convert_to_binary(Y)\n",
    "n = max(len(x_pt), len(y_pt))\n",
    "n\n",
    "if len(x_pt)<n:\n",
    "    for i in range(n-len(x_pt)):\n",
    "        x_pt = '0' + x_pt\n",
    "if len(y_pt)<n:\n",
    "    for i in range(n-len(y_pt)):\n",
    "        y_pt = '0' + y_pt        \n",
    "print(x_pt)\n",
    "print(y_pt)"
   ]
  },
  {
   "cell_type": "code",
   "execution_count": 227,
   "metadata": {},
   "outputs": [
    {
     "data": {
      "text/plain": [
       "['111111', '11111011', '111110101']"
      ]
     },
     "execution_count": 227,
     "metadata": {},
     "output_type": "execute_result"
    }
   ],
   "source": [
    "def find_1_encoding(number):\n",
    "    one_enc = [];\n",
    "    for i in range(len(number)):\n",
    "        prefix = number[0:i+1]\n",
    "        if int(prefix[len(prefix)-1]) == 0:\n",
    "            prefix = prefix[0:len(prefix)-1] + \"1\"\n",
    "            one_enc.append(prefix)\n",
    "    return one_enc\n",
    "find_1encoding(y_pt)        "
   ]
  },
  {
   "cell_type": "code",
   "execution_count": 228,
   "metadata": {},
   "outputs": [
    {
     "name": "stdout",
     "output_type": "stream",
     "text": [
      "[(1, 1), (413, 584), (604, 640), (553, 593), (15, 529), (78, 386), (163, 304), (401, 81), (613, 452)]\n",
      "[(123, 190), (131, 36), (7, 67), (354, 508), (415, 401), (378, 399), (252, 81), (135, 429), (529, 274)]\n"
     ]
    }
   ],
   "source": [
    "#Step 1 by Alice\n",
    "pk,sk = elgamal_generate_keys()\n",
    "T = []\n",
    "row0 = []\n",
    "row1 = []\n",
    "for i in range(len(x_pt)):\n",
    "    if(int(x_pt[i])==0):\n",
    "        row0.append(elgamal_encrypt(pk,1))\n",
    "        r = math.ceil(random.random()*100)\n",
    "        row1.append(elgamal_encrypt(pk,r))\n",
    "    else:\n",
    "        row1.append(elgamal_encrypt(pk,1))\n",
    "        r = math.ceil(random.random()*100)\n",
    "        row0.append(elgamal_encrypt(pk,r))\n",
    "T.append(row0)\n",
    "T.append(row1)\n",
    "print(row0)\n",
    "print(row1)\n"
   ]
  },
  {
   "cell_type": "code",
   "execution_count": 233,
   "metadata": {},
   "outputs": [],
   "source": [
    "#Step 2 by Bob\n",
    "one_encoding = find_1encoding(y_pt)\n",
    "cipher_sets = [];\n",
    "for prefix in one_encoding:\n",
    "    temp = [1,1]\n",
    "    for i in range(len(prefix)):\n",
    "        temp[0] *= int(T[int(prefix[i])][i][0])\n",
    "        temp[1] *= int(T[int(prefix[i])][i][1])\n",
    "    cipher_sets.append(temp)    \n",
    "i=len(cipher_sets)\n",
    "while  i < n:\n",
    "    temp = [math.ceil(random.random()*100000), math.ceil(random.random()*100000)]\n",
    "    cipher_sets.append(temp)\n",
    "    i += 1\n"
   ]
  },
  {
   "cell_type": "code",
   "execution_count": 231,
   "metadata": {},
   "outputs": [
    {
     "name": "stdout",
     "output_type": "stream",
     "text": [
      "Bob is richer\n"
     ]
    }
   ],
   "source": [
    "#Step 3 by alice \n",
    "winner = -1\n",
    "for item in cipher_sets:\n",
    "    pt = elgamal_decrypt(sk,item)\n",
    "    if int(pt) == 1:\n",
    "        winner = 1\n",
    "    if winner ==1:\n",
    "        break\n",
    "if winner==1:\n",
    "    print('Alice is richer')\n",
    "else:\n",
    "    print('Bob is richer')\n"
   ]
  },
  {
   "cell_type": "code",
   "execution_count": null,
   "metadata": {},
   "outputs": [],
   "source": []
  }
 ],
 "metadata": {
  "kernelspec": {
   "display_name": "Python 3",
   "language": "python",
   "name": "python3"
  },
  "language_info": {
   "codemirror_mode": {
    "name": "ipython",
    "version": 3
   },
   "file_extension": ".py",
   "mimetype": "text/x-python",
   "name": "python",
   "nbconvert_exporter": "python",
   "pygments_lexer": "ipython3",
   "version": "3.8.3"
  }
 },
 "nbformat": 4,
 "nbformat_minor": 4
}
