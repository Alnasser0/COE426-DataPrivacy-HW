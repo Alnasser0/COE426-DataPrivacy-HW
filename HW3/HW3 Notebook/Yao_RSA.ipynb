{
 "cells": [
  {
   "cell_type": "code",
   "execution_count": 1,
   "metadata": {},
   "outputs": [],
   "source": [
    "from ipynb.fs.full.RSA import *\n",
    "import random\n",
    "import math\n",
    "import sys"
   ]
  },
  {
   "cell_type": "code",
   "execution_count": 2,
   "metadata": {},
   "outputs": [],
   "source": [
    "def convert_to_binary(number):\n",
    "    binary = \"{0:b}\".format(number)\n",
    "    return binary"
   ]
  },
  {
   "cell_type": "code",
   "execution_count": 3,
   "metadata": {},
   "outputs": [
    {
     "name": "stdout",
     "output_type": "stream",
     "text": [
      "001\n",
      "100\n"
     ]
    }
   ],
   "source": [
    "#Convert X and Y to binary \n",
    "X = 1\n",
    "Y = 4\n",
    "x_pt = convert_to_binary(X)\n",
    "y_pt = convert_to_binary(Y)\n",
    "n = max(len(x_pt), len(y_pt))\n",
    "n\n",
    "if len(x_pt)<n:\n",
    "    for i in range(n-len(x_pt)):\n",
    "        x_pt = '0' + x_pt\n",
    "if len(y_pt)<n:\n",
    "    for i in range(n-len(y_pt)):\n",
    "        y_pt = '0' + y_pt        \n",
    "print(x_pt)\n",
    "print(y_pt)"
   ]
  },
  {
   "cell_type": "code",
   "execution_count": 5,
   "metadata": {},
   "outputs": [
    {
     "data": {
      "text/plain": [
       "['11', '101']"
      ]
     },
     "execution_count": 5,
     "metadata": {},
     "output_type": "execute_result"
    }
   ],
   "source": [
    "def find_1_encoding(number):\n",
    "    one_enc = [];\n",
    "    for i in range(len(number)):\n",
    "        prefix = number[0:i+1]\n",
    "        if int(prefix[len(prefix)-1]) == 0:\n",
    "            prefix = prefix[0:len(prefix)-1] + \"1\"\n",
    "            one_enc.append(prefix)\n",
    "    return one_enc\n",
    "find_1_encoding(y_pt)        "
   ]
  },
  {
   "cell_type": "code",
   "execution_count": 8,
   "metadata": {},
   "outputs": [
    {
     "ename": "NameError",
     "evalue": "name 'elgamal_encrypt' is not defined",
     "output_type": "error",
     "traceback": [
      "\u001b[0;31m---------------------------------------------------------------------------\u001b[0m",
      "\u001b[0;31mNameError\u001b[0m                                 Traceback (most recent call last)",
      "\u001b[0;32m<ipython-input-8-7453930cf17f>\u001b[0m in \u001b[0;36m<module>\u001b[0;34m\u001b[0m\n\u001b[1;32m      6\u001b[0m \u001b[0;32mfor\u001b[0m \u001b[0mi\u001b[0m \u001b[0;32min\u001b[0m \u001b[0mrange\u001b[0m\u001b[0;34m(\u001b[0m\u001b[0mlen\u001b[0m\u001b[0;34m(\u001b[0m\u001b[0mx_pt\u001b[0m\u001b[0;34m)\u001b[0m\u001b[0;34m)\u001b[0m\u001b[0;34m:\u001b[0m\u001b[0;34m\u001b[0m\u001b[0;34m\u001b[0m\u001b[0m\n\u001b[1;32m      7\u001b[0m     \u001b[0;32mif\u001b[0m\u001b[0;34m(\u001b[0m\u001b[0mint\u001b[0m\u001b[0;34m(\u001b[0m\u001b[0mx_pt\u001b[0m\u001b[0;34m[\u001b[0m\u001b[0mi\u001b[0m\u001b[0;34m]\u001b[0m\u001b[0;34m)\u001b[0m\u001b[0;34m==\u001b[0m\u001b[0;36m0\u001b[0m\u001b[0;34m)\u001b[0m\u001b[0;34m:\u001b[0m\u001b[0;34m\u001b[0m\u001b[0;34m\u001b[0m\u001b[0m\n\u001b[0;32m----> 8\u001b[0;31m         \u001b[0mrow0\u001b[0m\u001b[0;34m.\u001b[0m\u001b[0mappend\u001b[0m\u001b[0;34m(\u001b[0m\u001b[0melgamal_encrypt\u001b[0m\u001b[0;34m(\u001b[0m\u001b[0mpk\u001b[0m\u001b[0;34m,\u001b[0m\u001b[0;36m1\u001b[0m\u001b[0;34m)\u001b[0m\u001b[0;34m)\u001b[0m\u001b[0;34m\u001b[0m\u001b[0;34m\u001b[0m\u001b[0m\n\u001b[0m\u001b[1;32m      9\u001b[0m         \u001b[0mr\u001b[0m \u001b[0;34m=\u001b[0m \u001b[0mmath\u001b[0m\u001b[0;34m.\u001b[0m\u001b[0mceil\u001b[0m\u001b[0;34m(\u001b[0m\u001b[0mrandom\u001b[0m\u001b[0;34m.\u001b[0m\u001b[0mrandom\u001b[0m\u001b[0;34m(\u001b[0m\u001b[0;34m)\u001b[0m\u001b[0;34m*\u001b[0m\u001b[0;36m100\u001b[0m\u001b[0;34m)\u001b[0m\u001b[0;34m\u001b[0m\u001b[0;34m\u001b[0m\u001b[0m\n\u001b[1;32m     10\u001b[0m         \u001b[0mrow1\u001b[0m\u001b[0;34m.\u001b[0m\u001b[0mappend\u001b[0m\u001b[0;34m(\u001b[0m\u001b[0melgamal_encrypt\u001b[0m\u001b[0;34m(\u001b[0m\u001b[0mpk\u001b[0m\u001b[0;34m,\u001b[0m\u001b[0mr\u001b[0m\u001b[0;34m)\u001b[0m\u001b[0;34m)\u001b[0m\u001b[0;34m\u001b[0m\u001b[0;34m\u001b[0m\u001b[0m\n",
      "\u001b[0;31mNameError\u001b[0m: name 'elgamal_encrypt' is not defined"
     ]
    }
   ],
   "source": [
    "#Step 1 by Alice\n",
    "pk,sk = rsa_genKeys()\n",
    "T = []\n",
    "row0 = []\n",
    "row1 = []\n",
    "for i in range(len(x_pt)):\n",
    "    if(int(x_pt[i])==0):\n",
    "       # insert your code here\n",
    "    \n",
    "    else:\n",
    "        # insert your code here\n",
    "        \n",
    "        \n",
    "T.append(row0)\n",
    "T.append(row1)\n",
    "print(row0)\n",
    "print(row1)\n"
   ]
  },
  {
   "cell_type": "code",
   "execution_count": 224,
   "metadata": {},
   "outputs": [
    {
     "data": {
      "text/plain": [
       "[[1331, 537],\n",
       " [6457376, 941046288],\n",
       " [275029329904, 374032949680],\n",
       " [70195, 85837]]"
      ]
     },
     "execution_count": 224,
     "metadata": {},
     "output_type": "execute_result"
    }
   ],
   "source": [
    "#Step 2 by Bob\n",
    "one_encoding = find_1encoding(y_pt)\n",
    "cipher_sets = [];\n",
    "for prefix in one_encoding:\n",
    "    temp = [1,1]\n",
    "    for i in range(len(prefix)):\n",
    "        #insert your code here \n",
    "        \n",
    "        \n",
    "    cipher_sets.append(temp)    \n",
    "i=len(cipher_sets)\n",
    "while  i < n:\n",
    "    temp = [math.ceil(random.random()*100000), math.ceil(random.random()*100000)]\n",
    "    cipher_sets.append(temp)\n",
    "    i += 1\n",
    "cipher_sets    "
   ]
  },
  {
   "cell_type": "code",
   "execution_count": 225,
   "metadata": {},
   "outputs": [
    {
     "name": "stdout",
     "output_type": "stream",
     "text": [
      "1\n",
      "Alice is richer\n"
     ]
    }
   ],
   "source": [
    "#Step 3 by alice \n",
    "winner = -1\n",
    "for item in cipher_sets:\n",
    "    # insert your code here \n",
    "    \n",
    "    \n",
    "    print(pt)\n",
    "    if int(pt) == 1:\n",
    "        winner = 1\n",
    "    if winner ==1:\n",
    "        break\n",
    "if winner==1:\n",
    "    print('Alice is richer')\n",
    "else:\n",
    "    print('Bob is richer')\n"
   ]
  },
  {
   "cell_type": "code",
   "execution_count": null,
   "metadata": {},
   "outputs": [],
   "source": []
  }
 ],
 "metadata": {
  "kernelspec": {
   "display_name": "Python 3",
   "language": "python",
   "name": "python3"
  },
  "language_info": {
   "codemirror_mode": {
    "name": "ipython",
    "version": 3
   },
   "file_extension": ".py",
   "mimetype": "text/x-python",
   "name": "python",
   "nbconvert_exporter": "python",
   "pygments_lexer": "ipython3",
   "version": "3.8.3"
  }
 },
 "nbformat": 4,
 "nbformat_minor": 4
}
